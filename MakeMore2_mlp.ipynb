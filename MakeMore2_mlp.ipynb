{
  "nbformat": 4,
  "nbformat_minor": 0,
  "metadata": {
    "colab": {
      "provenance": [],
      "authorship_tag": "ABX9TyOWObOfXeqpNCQ3WwNNelr6",
      "include_colab_link": true
    },
    "kernelspec": {
      "name": "python3",
      "display_name": "Python 3"
    },
    "language_info": {
      "name": "python"
    }
  },
  "cells": [
    {
      "cell_type": "markdown",
      "metadata": {
        "id": "view-in-github",
        "colab_type": "text"
      },
      "source": [
        "<a href=\"https://colab.research.google.com/github/ydvdhrj/MakeMore/blob/main/MakeMore2_mlp.ipynb\" target=\"_parent\"><img src=\"https://colab.research.google.com/assets/colab-badge.svg\" alt=\"Open In Colab\"/></a>"
      ]
    },
    {
      "cell_type": "code",
      "execution_count": 1,
      "metadata": {
        "id": "lEF6lQ-UDhlR"
      },
      "outputs": [],
      "source": [
        "import torch\n",
        "import torch.nn.functional as F\n",
        "import matplotlib.pyplot as plt #for making graphs\n",
        "%matplotlib inline"
      ]
    },
    {
      "cell_type": "code",
      "source": [
        "# read all the words\n",
        "words = open('names.txt','r').read().splitlines()\n",
        "words[:8]"
      ],
      "metadata": {
        "colab": {
          "base_uri": "https://localhost:8080/"
        },
        "id": "jrr-T3WxEcoo",
        "outputId": "42f1ec44-dede-4444-ec1d-0d7467459626"
      },
      "execution_count": 158,
      "outputs": [
        {
          "output_type": "execute_result",
          "data": {
            "text/plain": [
              "['emma', 'olivia', 'ava', 'isabella', 'sophia', 'charlotte', 'mia', 'amelia']"
            ]
          },
          "metadata": {},
          "execution_count": 158
        }
      ]
    },
    {
      "cell_type": "code",
      "source": [
        "len(words)"
      ],
      "metadata": {
        "colab": {
          "base_uri": "https://localhost:8080/"
        },
        "id": "6z9s5REuE-YC",
        "outputId": "91f8e15b-4428-4058-bb53-370a2c6cee5e"
      },
      "execution_count": 159,
      "outputs": [
        {
          "output_type": "execute_result",
          "data": {
            "text/plain": [
              "32033"
            ]
          },
          "metadata": {},
          "execution_count": 159
        }
      ]
    },
    {
      "cell_type": "code",
      "source": [
        "# build the vocabulary of characteres and mapping them from integers\n",
        "chars = list(sorted(set(''.join(words))))\n",
        "stoi = {s:i+1 for i,s in enumerate(chars)}\n",
        "stoi['.'] = 0\n",
        "itos = {i:s for s,i in stoi.items()}\n",
        "print(itos)"
      ],
      "metadata": {
        "colab": {
          "base_uri": "https://localhost:8080/"
        },
        "id": "-dBe5TALEtR2",
        "outputId": "9658935f-bc34-4c91-ba37-29f56a697e10"
      },
      "execution_count": 160,
      "outputs": [
        {
          "output_type": "stream",
          "name": "stdout",
          "text": [
            "{1: 'a', 2: 'b', 3: 'c', 4: 'd', 5: 'e', 6: 'f', 7: 'g', 8: 'h', 9: 'i', 10: 'j', 11: 'k', 12: 'l', 13: 'm', 14: 'n', 15: 'o', 16: 'p', 17: 'q', 18: 'r', 19: 's', 20: 't', 21: 'u', 22: 'v', 23: 'w', 24: 'x', 25: 'y', 26: 'z', 0: '.'}\n"
          ]
        }
      ]
    },
    {
      "cell_type": "code",
      "source": [
        "# build the dataset\n",
        "def build_dataset(words):\n",
        "  block_size=3 #context length: how many character we need to predict the next character\n",
        "  X,Y = [],[]\n",
        "\n",
        "  for w in words:\n",
        "    # print(w)\n",
        "    context  = [0]*block_size\n",
        "    for ch in w+'.':\n",
        "      ix = stoi[ch]\n",
        "      X.append(context)\n",
        "      Y.append(ix)\n",
        "      # print(''.join(itos[i] for i in context), '---->', ch)\n",
        "      context = context[1:] + [ix] #crop and append\n",
        "\n",
        "  X = torch.tensor(X)\n",
        "  Y = torch.tensor(Y)\n",
        "  print(X.shape,Y.shape)\n",
        "  return X,Y\n",
        "\n",
        "import random\n",
        "random.seed(42)\n",
        "random.shuffle(words)\n",
        "n1 = int(0.8*len(words))\n",
        "n2 = int(0.9*len(words))\n",
        "\n",
        "Xtr,Ytr = build_dataset(words[:n1])\n",
        "Xdev,Ydev = build_dataset(words[n1:n2])\n",
        "Xte,Yte = build_dataset(words[n2:])"
      ],
      "metadata": {
        "colab": {
          "base_uri": "https://localhost:8080/"
        },
        "id": "uXAjwlNAGC95",
        "outputId": "d97e603c-f3da-4789-8398-4a526f13d87a"
      },
      "execution_count": 161,
      "outputs": [
        {
          "output_type": "stream",
          "name": "stdout",
          "text": [
            "torch.Size([182625, 3]) torch.Size([182625])\n",
            "torch.Size([22655, 3]) torch.Size([22655])\n",
            "torch.Size([22866, 3]) torch.Size([22866])\n"
          ]
        }
      ]
    },
    {
      "cell_type": "code",
      "source": [
        "len(words)"
      ],
      "metadata": {
        "colab": {
          "base_uri": "https://localhost:8080/"
        },
        "id": "VQXl_bGY_VJE",
        "outputId": "5c85faa3-c102-450d-e83e-7c3180fad44c"
      },
      "execution_count": 162,
      "outputs": [
        {
          "output_type": "execute_result",
          "data": {
            "text/plain": [
              "32033"
            ]
          },
          "metadata": {},
          "execution_count": 162
        }
      ]
    },
    {
      "cell_type": "code",
      "source": [
        "n1  #training dataset"
      ],
      "metadata": {
        "colab": {
          "base_uri": "https://localhost:8080/"
        },
        "id": "0GhIReuQ_Wol",
        "outputId": "4d52648f-31f1-467c-c8d7-deb340e7b42f"
      },
      "execution_count": 163,
      "outputs": [
        {
          "output_type": "execute_result",
          "data": {
            "text/plain": [
              "25626"
            ]
          },
          "metadata": {},
          "execution_count": 163
        }
      ]
    },
    {
      "cell_type": "code",
      "source": [
        "len(words) - n2  #testing"
      ],
      "metadata": {
        "colab": {
          "base_uri": "https://localhost:8080/"
        },
        "id": "FayxHQ9D_YGO",
        "outputId": "374b73df-fad4-4977-d431-99ef11017f10"
      },
      "execution_count": 164,
      "outputs": [
        {
          "output_type": "execute_result",
          "data": {
            "text/plain": [
              "3204"
            ]
          },
          "metadata": {},
          "execution_count": 164
        }
      ]
    },
    {
      "cell_type": "code",
      "source": [
        "n2-n1  #dev or validation"
      ],
      "metadata": {
        "colab": {
          "base_uri": "https://localhost:8080/"
        },
        "id": "Z_UY5ps0_Zff",
        "outputId": "a6660001-fc07-4f4a-f3eb-fd4b57684e16"
      },
      "execution_count": 165,
      "outputs": [
        {
          "output_type": "execute_result",
          "data": {
            "text/plain": [
              "3203"
            ]
          },
          "metadata": {},
          "execution_count": 165
        }
      ]
    },
    {
      "cell_type": "code",
      "source": [
        "C = torch.randn((27,2))"
      ],
      "metadata": {
        "id": "1c0tE0KDLG-L"
      },
      "execution_count": 12,
      "outputs": []
    },
    {
      "cell_type": "code",
      "source": [
        "emb = C[X]\n",
        "emb.shape"
      ],
      "metadata": {
        "colab": {
          "base_uri": "https://localhost:8080/"
        },
        "id": "Pj1WL3NpNXCe",
        "outputId": "89fab90f-a855-4aa6-fa50-19f6193a8a74"
      },
      "execution_count": 27,
      "outputs": [
        {
          "output_type": "execute_result",
          "data": {
            "text/plain": [
              "torch.Size([32, 3, 2])"
            ]
          },
          "metadata": {},
          "execution_count": 27
        }
      ]
    },
    {
      "cell_type": "code",
      "source": [
        "w1 = torch.randn(6,100)\n",
        "b1 = torch.randn(100)"
      ],
      "metadata": {
        "id": "t3GDMEQcPUWQ"
      },
      "execution_count": 28,
      "outputs": []
    },
    {
      "cell_type": "code",
      "source": [
        "# emb @ w1 + b1 -----> this will not work so we have to convert this 32, 3, 2 shape into 32,6 this is like every character of those 3 character contains 2 value\n",
        "\n",
        "# pytorch provide as cat() function this will contatinate\n",
        "        # emb[:0:].shape ---> it will be 32,2 similarly all this 3 matrix of 32,2 shape will be concatinate into 32,6 shape\n",
        "        # syntax of cat is ---> cat(matrix, index along whic u r concatinate)   in our case we concatinate along column i.e  of index 1\n",
        "# as 3 i.e number of previous character we are usong to predict the next character can be changed so we cant manually put all those indexs\n",
        "# and to solve this pytorch will have unbind function\n",
        "# syntax is ---> unbind(provid matrix that wanna unbind, index on which u wanna unbind)\n",
        "\n",
        "# torch.cat(torch.unbind(emb,1),1).shape\n",
        "\n",
        "# concatination is actually creating a new tensor which is less memory efficient\n",
        "\n",
        "# so instead of cat we use view,  view will tell us that in which shape we wanna see the tensor\n",
        "# tensor is tored as a single dimensional vector in indexes view, stride, metadata help us to get what shape or what tensor we want\n",
        "# learn more about tensor internals how it s store in database\n",
        "\n",
        "# syntax of view --->> emb.view(32,6) == emb.view(emb.shape[0],6) == emb.view(-1,6)\n",
        "# -1 and emb.shape is for general purpose so we dont hard code it\n",
        "# and when we use -1 pytorch automatically calculate it according to input that what is its dimension"
      ],
      "metadata": {
        "id": "yHKxg5mnShDI"
      },
      "execution_count": 32,
      "outputs": []
    },
    {
      "cell_type": "code",
      "source": [
        "h = torch.tanh(emb.view(-1,6) @ w1 + b1)"
      ],
      "metadata": {
        "id": "7xla1H3ZSmUM"
      },
      "execution_count": 34,
      "outputs": []
    },
    {
      "cell_type": "code",
      "source": [
        "h"
      ],
      "metadata": {
        "colab": {
          "base_uri": "https://localhost:8080/"
        },
        "id": "a94EOevhY3Kk",
        "outputId": "7083eafe-84cf-443d-af5e-47f40a7e6e4b"
      },
      "execution_count": 35,
      "outputs": [
        {
          "output_type": "execute_result",
          "data": {
            "text/plain": [
              "tensor([[ 0.4137,  0.9817,  0.9760,  ...,  0.3099,  0.2963,  0.6733],\n",
              "        [ 0.0803,  0.9515,  0.9908,  ..., -0.2412,  0.1501,  0.0394],\n",
              "        [ 0.3993,  0.7562,  0.9290,  ..., -0.8926, -0.7486,  0.7777],\n",
              "        ...,\n",
              "        [ 0.9776,  0.4221, -0.8724,  ...,  0.8593,  0.8252,  0.9831],\n",
              "        [ 0.5417,  0.9902,  0.9995,  ..., -0.3947, -0.3192, -0.8559],\n",
              "        [ 0.1902,  0.9774,  0.9875,  ..., -0.9775, -0.9795,  0.5647]])"
            ]
          },
          "metadata": {},
          "execution_count": 35
        }
      ]
    },
    {
      "cell_type": "code",
      "source": [
        "h.shape"
      ],
      "metadata": {
        "colab": {
          "base_uri": "https://localhost:8080/"
        },
        "id": "DdqX0DPzY4jU",
        "outputId": "0990504d-322a-4056-d03a-69c320e46952"
      },
      "execution_count": 36,
      "outputs": [
        {
          "output_type": "execute_result",
          "data": {
            "text/plain": [
              "torch.Size([32, 100])"
            ]
          },
          "metadata": {},
          "execution_count": 36
        }
      ]
    },
    {
      "cell_type": "code",
      "source": [
        "w2 = torch.randn((100,27))\n",
        "b2 = torch.randn((27))"
      ],
      "metadata": {
        "id": "xONAnG0uUze2"
      },
      "execution_count": 37,
      "outputs": []
    },
    {
      "cell_type": "code",
      "source": [
        "logits = h @ w2 + b2"
      ],
      "metadata": {
        "id": "jbYTWzb_cEJ2"
      },
      "execution_count": 39,
      "outputs": []
    },
    {
      "cell_type": "code",
      "source": [
        "counts = logits.exp()"
      ],
      "metadata": {
        "id": "CBDphdqfcS7p"
      },
      "execution_count": 40,
      "outputs": []
    },
    {
      "cell_type": "code",
      "source": [
        "prob = counts/counts.sum(1,keepdims=True)"
      ],
      "metadata": {
        "id": "xmqfFy-0cPa8"
      },
      "execution_count": 41,
      "outputs": []
    },
    {
      "cell_type": "code",
      "source": [
        "loss = -prob[torch.arange(32),Y].log().mean()\n",
        "loss"
      ],
      "metadata": {
        "colab": {
          "base_uri": "https://localhost:8080/"
        },
        "id": "MkgIPt-zchF-",
        "outputId": "31066bf9-b0ba-4722-8964-9710038ef9dc"
      },
      "execution_count": 42,
      "outputs": [
        {
          "output_type": "execute_result",
          "data": {
            "text/plain": [
              "tensor(15.2423)"
            ]
          },
          "metadata": {},
          "execution_count": 42
        }
      ]
    },
    {
      "cell_type": "code",
      "source": [
        "# ---------------Now made respactable -----------"
      ],
      "metadata": {
        "id": "9nqOTWv9c8cB"
      },
      "execution_count": 43,
      "outputs": []
    },
    {
      "cell_type": "code",
      "source": [
        "Xtr.shape,Ytr.shape #dataset"
      ],
      "metadata": {
        "colab": {
          "base_uri": "https://localhost:8080/"
        },
        "id": "rdpjRy9EflPx",
        "outputId": "07d101ef-7b96-4d6a-afd2-09a65179c0c4"
      },
      "execution_count": 166,
      "outputs": [
        {
          "output_type": "execute_result",
          "data": {
            "text/plain": [
              "(torch.Size([182625, 3]), torch.Size([182625]))"
            ]
          },
          "metadata": {},
          "execution_count": 166
        }
      ]
    },
    {
      "cell_type": "code",
      "source": [
        "g = torch.Generator().manual_seed(2147483647) # for reproducibility\n",
        "C = torch.randn((27,10),generator=g)\n",
        "w1 = torch.randn((30,200),generator=g)\n",
        "b1 = torch.randn(200,generator=g)\n",
        "w2 = torch.randn((200,27),generator=g)\n",
        "b2 = torch.randn(27,generator=g)\n",
        "parameters = [C,w1,b1,w2,b2]"
      ],
      "metadata": {
        "id": "SlgjMEdlfsku"
      },
      "execution_count": 217,
      "outputs": []
    },
    {
      "cell_type": "code",
      "source": [
        "sum(p.nelement() for p in parameters)"
      ],
      "metadata": {
        "colab": {
          "base_uri": "https://localhost:8080/"
        },
        "id": "TizxQu2gggSq",
        "outputId": "5883068e-09c6-4660-af06-a816ea987a38"
      },
      "execution_count": 218,
      "outputs": [
        {
          "output_type": "execute_result",
          "data": {
            "text/plain": [
              "11897"
            ]
          },
          "metadata": {},
          "execution_count": 218
        }
      ]
    },
    {
      "cell_type": "code",
      "source": [
        "# why we use cross_entropy instead of this\n",
        "#   counts = logits.exp() # counts, equivalent to N\n",
        "#   probs = counts/counts.sum(1, keepdims=True) # probabilities for next\n",
        "#   loss = -probs[torch.arange(num),ys].log().mean()\n",
        "\n",
        "# because corss_entropy will give us\n",
        "# 1) optimized forward pass\n",
        "# 2) optimized backward pass\n",
        "# 3) things will be more numberically stable"
      ],
      "metadata": {
        "id": "lw24IDcTjFC5"
      },
      "execution_count": null,
      "outputs": []
    },
    {
      "cell_type": "code",
      "source": [
        "for p in parameters:\n",
        "  p.requires_grad=True"
      ],
      "metadata": {
        "id": "lx-WkxcKgar-"
      },
      "execution_count": 219,
      "outputs": []
    },
    {
      "cell_type": "code",
      "source": [
        "lre = torch.linspace(-3,0,1000)\n",
        "lre = 10**lre"
      ],
      "metadata": {
        "id": "FcU1vb2Jube4"
      },
      "execution_count": 220,
      "outputs": []
    },
    {
      "cell_type": "code",
      "source": [
        "lri = []\n",
        "lossi = []\n",
        "stepi = []"
      ],
      "metadata": {
        "id": "pOYOCv2EINUn"
      },
      "execution_count": 221,
      "outputs": []
    },
    {
      "cell_type": "code",
      "source": [
        "\n",
        "\n",
        "for i in range(200000):\n",
        "\n",
        "  # mini batch construct\n",
        "  ix = torch.randint(0,Xtr.shape[0],(32,))\n",
        "\n",
        "  # forward pass\n",
        "  emb = C[Xtr[ix]] #(32,3,2)\n",
        "  h = torch.tanh(emb.view(-1,30) @ w1 + b1)\n",
        "  logits = h @ w2 + b2\n",
        "  loss = F.cross_entropy(logits,Ytr[ix])\n",
        "  # print(loss.item())\n",
        "\n",
        "  # backward pass\n",
        "  for p in parameters:\n",
        "    p.grad = None\n",
        "  loss.backward()\n",
        "\n",
        "  # update\n",
        "  # lr = lre[i]\n",
        "  lr = 0.1 if i < 100000 else (0.01 if i < 150000 else 0.0001)\n",
        "  for p in parameters:\n",
        "    p.data += -lr*p.grad\n",
        "\n",
        "  # track stats\n",
        "  # lri.append(lre[i])\n",
        "  lossi.append(loss.log10().item())\n",
        "  stepi.append(i)\n",
        "# print(loss.item())\n"
      ],
      "metadata": {
        "id": "EcbiCfkvg06I"
      },
      "execution_count": 222,
      "outputs": []
    },
    {
      "cell_type": "code",
      "source": [
        "plt.plot(stepi,lossi)"
      ],
      "metadata": {
        "colab": {
          "base_uri": "https://localhost:8080/",
          "height": 447
        },
        "id": "lIZv1e3TI1fG",
        "outputId": "c73b4550-5cc0-48c7-a331-cc804d2016f7"
      },
      "execution_count": 223,
      "outputs": [
        {
          "output_type": "execute_result",
          "data": {
            "text/plain": [
              "[<matplotlib.lines.Line2D at 0x7f71e2006f00>]"
            ]
          },
          "metadata": {},
          "execution_count": 223
        },
        {
          "output_type": "display_data",
          "data": {
            "text/plain": [
              "<Figure size 640x480 with 1 Axes>"
            ],
            "image/png": "[encoded data removed]"
          },
          "metadata": {}
        }
      ]
    },
    {
      "cell_type": "code",
      "source": [
        "emb = C[Xtr] #(32,3,2)\n",
        "h = torch.tanh(emb.view(-1,30) @ w1 + b1)\n",
        "logits = h @ w2 + b2\n",
        "loss = F.cross_entropy(logits,Ytr)\n",
        "loss"
      ],
      "metadata": {
        "colab": {
          "base_uri": "https://localhost:8080/"
        },
        "id": "olgArsBumE34",
        "outputId": "bdf47903-6c9c-4bc4-ce10-eeeadb08f28d"
      },
      "execution_count": 224,
      "outputs": [
        {
          "output_type": "execute_result",
          "data": {
            "text/plain": [
              "tensor(2.1171, grad_fn=<NllLossBackward0>)"
            ]
          },
          "metadata": {},
          "execution_count": 224
        }
      ]
    },
    {
      "cell_type": "code",
      "source": [
        "# 2.1224"
      ],
      "metadata": {
        "id": "z8NyZXkPKWVS"
      },
      "execution_count": null,
      "outputs": []
    },
    {
      "cell_type": "code",
      "source": [
        "emb = C[Xdev] #(32,3,2)\n",
        "h = torch.tanh(emb.view(-1,30) @ w1 + b1)\n",
        "logits = h @ w2 + b2\n",
        "loss = F.cross_entropy(logits,Ydev)\n",
        "loss"
      ],
      "metadata": {
        "colab": {
          "base_uri": "https://localhost:8080/"
        },
        "id": "yJuSJ2KiATBS",
        "outputId": "9420576f-5481-469b-8b0b-2ffc584ff10b"
      },
      "execution_count": 225,
      "outputs": [
        {
          "output_type": "execute_result",
          "data": {
            "text/plain": [
              "tensor(2.1488, grad_fn=<NllLossBackward0>)"
            ]
          },
          "metadata": {},
          "execution_count": 225
        }
      ]
    },
    {
      "cell_type": "code",
      "source": [
        "emb = C[Xte] #(32,3,2)\n",
        "h = torch.tanh(emb.view(-1,30) @ w1 + b1)\n",
        "logits = h @ w2 + b2\n",
        "loss = F.cross_entropy(logits,Yte)\n",
        "loss"
      ],
      "metadata": {
        "colab": {
          "base_uri": "https://localhost:8080/"
        },
        "id": "ZM_BoAisAXG9",
        "outputId": "04407d42-99ad-4c26-de4a-225765220dde"
      },
      "execution_count": 226,
      "outputs": [
        {
          "output_type": "execute_result",
          "data": {
            "text/plain": [
              "tensor(2.1518, grad_fn=<NllLossBackward0>)"
            ]
          },
          "metadata": {},
          "execution_count": 226
        }
      ]
    },
    {
      "cell_type": "code",
      "source": [
        "# to visualise when we have 2D embeddings\n",
        "plt.figure(figsize=(8,8))\n",
        "plt.scatter(C[:,0].data,C[:,1].data,s=200)\n",
        "for i in range(C.shape[0]):\n",
        "  plt.text(C[i,0].item(),C[i,1].item(),itos[i], va='center', ha='center', color='white')\n",
        "plt.grid('minor')"
      ],
      "metadata": {
        "colab": {
          "base_uri": "https://localhost:8080/",
          "height": 676
        },
        "id": "yWwt-kU4ET03",
        "outputId": "34969323-ecd2-4bc0-d9ab-e196293f3183"
      },
      "execution_count": 189,
      "outputs": [
        {
          "output_type": "display_data",
          "data": {
            "text/plain": [
              "<Figure size 800x800 with 1 Axes>"
            ],
            "image/png": "[encoded data removed]"
          },
          "metadata": {}
        }
      ]
    },
    {
      "cell_type": "code",
      "source": [
        "# sample from the model\n",
        "\n",
        "for _ in range(20):\n",
        "  out = []\n",
        "  context = [0]*block_size #initialize with all ...\n",
        "  while True:\n",
        "    emb = C[torch.tensor([context])]   #(1,block_size,d)\n",
        "    h = torch.tanh(emb.view(1,-1) @ w1 + b1)\n",
        "    logits = h @ w2 +b2\n",
        "    probs =  F.softmax(logits,dim=1)\n",
        "    ix = torch.multinomial(probs,num_samples=1,replacement=True,generator=g).item()\n",
        "    context = context[1:] + [ix]\n",
        "    out.append(ix)\n",
        "    if ix==0:\n",
        "      break\n",
        "  print(''.join(itos[i] for i in out))"
      ],
      "metadata": {
        "colab": {
          "base_uri": "https://localhost:8080/"
        },
        "id": "TxwE3WHpMeRL",
        "outputId": "0bd409fd-0192-4f6e-c4a9-835950be13ff"
      },
      "execution_count": 227,
      "outputs": [
        {
          "output_type": "stream",
          "name": "stdout",
          "text": [
            "sir.\n",
            "gialyn.\n",
            "joca.\n",
            "gimy.\n",
            "jelup.\n",
            "aszipherson.\n",
            "nick.\n",
            "romerleser.\n",
            "leigh.\n",
            "duliann.\n",
            "cito.\n",
            "ceth.\n",
            "daylen.\n",
            "nitiel.\n",
            "anmelo.\n",
            "detteah.\n",
            "eutin.\n",
            "davillayko.\n",
            "yuh.\n",
            "aliza.\n"
          ]
        }
      ]
    }
  ]
}