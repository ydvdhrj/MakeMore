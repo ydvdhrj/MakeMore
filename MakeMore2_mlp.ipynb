{
  "nbformat": 4,
  "nbformat_minor": 0,
  "metadata": {
    "colab": {
      "provenance": [],
      "gpuType": "T4",
      "authorship_tag": "ABX9TyPjuQEn3F1RX7BWqdYu+/bq",
      "include_colab_link": true
    },
    "kernelspec": {
      "name": "python3",
      "display_name": "Python 3"
    },
    "language_info": {
      "name": "python"
    },
    "accelerator": "GPU"
  },
  "cells": [
    {
      "cell_type": "markdown",
      "metadata": {
        "id": "view-in-github",
        "colab_type": "text"
      },
      "source": [
        "<a href=\"https://colab.research.google.com/github/ydvdhrj/MakeMore/blob/main/MakeMore2_mlp.ipynb\" target=\"_parent\"><img src=\"https://colab.research.google.com/assets/colab-badge.svg\" alt=\"Open In Colab\"/></a>"
      ]
    },
    {
      "cell_type": "code",
      "execution_count": 125,
      "metadata": {
        "id": "lEF6lQ-UDhlR"
      },
      "outputs": [],
      "source": [
        "import torch\n",
        "import torch.nn.functional as F\n",
        "import matplotlib.pyplot as plt #for making graphs\n",
        "%matplotlib inline"
      ]
    },
    {
      "cell_type": "code",
      "source": [
        "# read all the words\n",
        "words = open('names.txt','r').read().splitlines()\n",
        "words[:8]"
      ],
      "metadata": {
        "colab": {
          "base_uri": "https://localhost:8080/"
        },
        "id": "jrr-T3WxEcoo",
        "outputId": "b1ed9eb3-0e56-43cf-ede6-7abcf2633c9d"
      },
      "execution_count": 126,
      "outputs": [
        {
          "output_type": "execute_result",
          "data": {
            "text/plain": [
              "['emma', 'olivia', 'ava', 'isabella', 'sophia', 'charlotte', 'mia', 'amelia']"
            ]
          },
          "metadata": {},
          "execution_count": 126
        }
      ]
    },
    {
      "cell_type": "code",
      "source": [
        "len(words)"
      ],
      "metadata": {
        "colab": {
          "base_uri": "https://localhost:8080/"
        },
        "id": "6z9s5REuE-YC",
        "outputId": "60b82726-319d-4ecd-aae3-04ff81ecd39f"
      },
      "execution_count": 127,
      "outputs": [
        {
          "output_type": "execute_result",
          "data": {
            "text/plain": [
              "32033"
            ]
          },
          "metadata": {},
          "execution_count": 127
        }
      ]
    },
    {
      "cell_type": "code",
      "source": [
        "# build the vocabulary of characteres and mapping them from integers\n",
        "chars = list(sorted(set(''.join(words))))\n",
        "stoi = {s:i+1 for i,s in enumerate(chars)}\n",
        "stoi['.'] = 0\n",
        "itos = {i:s for s,i in stoi.items()}\n",
        "vocab_size = len(itos)\n",
        "print(itos)\n",
        "print(vocab_size)"
      ],
      "metadata": {
        "colab": {
          "base_uri": "https://localhost:8080/"
        },
        "id": "-dBe5TALEtR2",
        "outputId": "66324e1d-d12f-4a53-dab8-30a906e30ac2"
      },
      "execution_count": 128,
      "outputs": [
        {
          "output_type": "stream",
          "name": "stdout",
          "text": [
            "{1: 'a', 2: 'b', 3: 'c', 4: 'd', 5: 'e', 6: 'f', 7: 'g', 8: 'h', 9: 'i', 10: 'j', 11: 'k', 12: 'l', 13: 'm', 14: 'n', 15: 'o', 16: 'p', 17: 'q', 18: 'r', 19: 's', 20: 't', 21: 'u', 22: 'v', 23: 'w', 24: 'x', 25: 'y', 26: 'z', 0: '.'}\n",
            "27\n"
          ]
        }
      ]
    },
    {
      "cell_type": "code",
      "source": [
        "# build the dataset\n",
        "block_size=3 #context length: how many character we need to predict the next character\n",
        "def build_dataset(words):\n",
        "  X,Y = [],[]\n",
        "\n",
        "  for w in words:\n",
        "    # print(w)\n",
        "    context  = [0]*block_size\n",
        "    for ch in w+'.':\n",
        "      ix = stoi[ch]\n",
        "      X.append(context)\n",
        "      Y.append(ix)\n",
        "      # print(''.join(itos[i] for i in context), '---->', ch)\n",
        "      context = context[1:] + [ix] #crop and append\n",
        "\n",
        "  X = torch.tensor(X)\n",
        "  Y = torch.tensor(Y)\n",
        "  print(X.shape,Y.shape)\n",
        "  return X,Y\n",
        "\n",
        "import random\n",
        "random.seed(42)\n",
        "random.shuffle(words)\n",
        "n1 = int(0.8*len(words))\n",
        "n2 = int(0.9*len(words))\n",
        "\n",
        "Xtr,Ytr = build_dataset(words[:n1])  #80%\n",
        "Xdev,Ydev = build_dataset(words[n1:n2])  #10%\n",
        "Xte,Yte = build_dataset(words[n2:])  #10%"
      ],
      "metadata": {
        "colab": {
          "base_uri": "https://localhost:8080/"
        },
        "id": "uXAjwlNAGC95",
        "outputId": "6c31632e-6018-4e60-f9f5-ae8a5f39a8bf"
      },
      "execution_count": 129,
      "outputs": [
        {
          "output_type": "stream",
          "name": "stdout",
          "text": [
            "torch.Size([182625, 3]) torch.Size([182625])\n",
            "torch.Size([22655, 3]) torch.Size([22655])\n",
            "torch.Size([22866, 3]) torch.Size([22866])\n"
          ]
        }
      ]
    },
    {
      "cell_type": "code",
      "source": [
        "len(words)"
      ],
      "metadata": {
        "colab": {
          "base_uri": "https://localhost:8080/"
        },
        "id": "VQXl_bGY_VJE",
        "outputId": "d2d630d9-4af5-4cbc-bb08-01811b3033ef"
      },
      "execution_count": 130,
      "outputs": [
        {
          "output_type": "execute_result",
          "data": {
            "text/plain": [
              "32033"
            ]
          },
          "metadata": {},
          "execution_count": 130
        }
      ]
    },
    {
      "cell_type": "code",
      "source": [
        "n1  #training dataset"
      ],
      "metadata": {
        "colab": {
          "base_uri": "https://localhost:8080/"
        },
        "id": "0GhIReuQ_Wol",
        "outputId": "cea2f727-6695-42fd-d7da-9f8368f77d3f"
      },
      "execution_count": 131,
      "outputs": [
        {
          "output_type": "execute_result",
          "data": {
            "text/plain": [
              "25626"
            ]
          },
          "metadata": {},
          "execution_count": 131
        }
      ]
    },
    {
      "cell_type": "code",
      "source": [
        "len(words) - n2  #testing"
      ],
      "metadata": {
        "colab": {
          "base_uri": "https://localhost:8080/"
        },
        "id": "FayxHQ9D_YGO",
        "outputId": "1751b0ce-b2b9-4929-bbcc-e58c87456ca4"
      },
      "execution_count": 132,
      "outputs": [
        {
          "output_type": "execute_result",
          "data": {
            "text/plain": [
              "3204"
            ]
          },
          "metadata": {},
          "execution_count": 132
        }
      ]
    },
    {
      "cell_type": "code",
      "source": [
        "n2-n1  #dev or validation"
      ],
      "metadata": {
        "colab": {
          "base_uri": "https://localhost:8080/"
        },
        "id": "Z_UY5ps0_Zff",
        "outputId": "0401bd1d-98d5-400a-b5cd-181b6a651457"
      },
      "execution_count": 133,
      "outputs": [
        {
          "output_type": "execute_result",
          "data": {
            "text/plain": [
              "3203"
            ]
          },
          "metadata": {},
          "execution_count": 133
        }
      ]
    },
    {
      "cell_type": "code",
      "source": [
        "# emb @ w1 + b1 -----> this will not work so we have to convert this 32, 3, 2 shape into 32,6 this is like every character of those 3 character contains 2 value\n",
        "\n",
        "# pytorch provide as cat() function this will contatinate\n",
        "        # emb[:0:].shape ---> it will be 32,2 similarly all this 3 matrix of 32,2 shape will be concatinate into 32,6 shape\n",
        "        # syntax of cat is ---> cat(matrix, index along whic u r concatinate)   in our case we concatinate along column i.e  of index 1\n",
        "# as 3 i.e number of previous character we are usong to predict the next character can be changed so we cant manually put all those indexs\n",
        "# and to solve this pytorch will have unbind function\n",
        "# syntax is ---> unbind(provid matrix that wanna unbind, index on which u wanna unbind)\n",
        "\n",
        "# torch.cat(torch.unbind(emb,1),1).shape\n",
        "\n",
        "# concatination is actually creating a new tensor which is less memory efficient\n",
        "\n",
        "# so instead of cat we use view,  view will tell us that in which shape we wanna see the tensor\n",
        "# tensor is tored as a single dimensional vector in indexes view, stride, metadata help us to get what shape or what tensor we want\n",
        "# learn more about tensor internals how it s store in database\n",
        "\n",
        "# syntax of view --->> emb.view(32,6) == emb.view(emb.shape[0],6) == emb.view(-1,6)\n",
        "# -1 and emb.shape is for general purpose so we dont hard code it\n",
        "# and when we use -1 pytorch automatically calculate it according to input that what is its dimension"
      ],
      "metadata": {
        "id": "yHKxg5mnShDI"
      },
      "execution_count": 134,
      "outputs": []
    },
    {
      "cell_type": "code",
      "source": [
        "# ---------------Now made respactable -----------"
      ],
      "metadata": {
        "id": "9nqOTWv9c8cB"
      },
      "execution_count": 135,
      "outputs": []
    },
    {
      "cell_type": "code",
      "source": [
        "Xtr.shape,Ytr.shape #dataset"
      ],
      "metadata": {
        "colab": {
          "base_uri": "https://localhost:8080/"
        },
        "id": "rdpjRy9EflPx",
        "outputId": "90e22ab5-5ec1-4574-85fa-ede8566e0749"
      },
      "execution_count": 136,
      "outputs": [
        {
          "output_type": "execute_result",
          "data": {
            "text/plain": [
              "(torch.Size([182625, 3]), torch.Size([182625]))"
            ]
          },
          "metadata": {},
          "execution_count": 136
        }
      ]
    },
    {
      "cell_type": "code",
      "source": [
        "# MLP\n",
        "#we are downgrading w1 and b1 so that hpreact range will be squeezed and it will not lead to dead neurons in tanh activation layer\n",
        "\n",
        "n_emb = 10 # the dimensionality of the character embedding vectors\n",
        "n_hidden = 200  #number of neurons in the hidden layer of the MLP\n",
        "\n",
        "g = torch.Generator().manual_seed(2147483647) # for reproducibility\n",
        "C = torch.randn((vocab_size,n_emb),               generator=g)\n",
        "w1 = torch.randn((n_emb * block_size,n_hidden),   generator=g) * (5/3)/((n_emb * block_size)**0.5) #5/3 is gain for tanh and (n_emb * block_size) is fan_in(or input)    #*0.2\n",
        "# b1 = torch.randn(n_hidden,                        generator=g) * 0.01 #we are putting them zero because we want some disceteness in tanh neurons it iss helpfull\n",
        "w2 = torch.randn((n_hidden, vocab_size),          generator=g) * 0.01\n",
        "b2 = torch.randn(vocab_size,                      generator=g) * 0\n",
        "\n",
        "# batchNorm parameters\n",
        "bngain = torch.ones((1,n_hidden))\n",
        "bnbias = torch.zeros((1,n_hidden))\n",
        "bnmean_running = torch.zeros((1,n_hidden))\n",
        "bnstd_running = torch.ones((1,n_hidden))\n",
        "\n",
        "parameters = [C,w1,w2,b2,bngain,bnbias]\n",
        "sum(p.nelement() for p in parameters)  #number of parameters in total\n",
        "for p in parameters:\n",
        "  p.requires_grad=True"
      ],
      "metadata": {
        "id": "SlgjMEdlfsku"
      },
      "execution_count": 149,
      "outputs": []
    },
    {
      "cell_type": "code",
      "source": [
        "# why we use cross_entropy instead of this\n",
        "#   counts = logits.exp() # counts, equivalent to N\n",
        "#   probs = counts/counts.sum(1, keepdims=True) # probabilities for next\n",
        "#   loss = -probs[torch.arange(num),ys].log().mean()\n",
        "\n",
        "# because corss_entropy will give us\n",
        "# 1) optimized forward pass\n",
        "# 2) optimized backward pass\n",
        "# 3) things will be more numberically stable"
      ],
      "metadata": {
        "id": "lw24IDcTjFC5"
      },
      "execution_count": 138,
      "outputs": []
    },
    {
      "cell_type": "code",
      "source": [
        "max_steps = 200000\n",
        "batch_size = 32\n",
        "lossi = []\n",
        "\n",
        "for i in range(200000):\n",
        "\n",
        "  # mini batch construct\n",
        "  ix = torch.randint(0,Xtr.shape[0],(batch_size,), generator=g)\n",
        "  Xb,Yb = Xtr[ix],Ytr[ix] #batch X,Y\n",
        "\n",
        "  # forward pass\n",
        "  emb = C[Xb] #emb the characters into vectors\n",
        "  embcat = emb.view(emb.shape[0],-1) #concatenate the vectors\n",
        "\n",
        "  # Linear Layer\n",
        "  hpreact = embcat @ w1 # +b1 #hidden layer preactivation,  this b1 eventually discarded by batchnormalization so it is useless, bnbias is working on its place\n",
        "  # batchNorm Layer\n",
        "  # -----------------------------------------------------------------------------------------------------------------------------------------\n",
        "  bnmeani = hpreact.mean(0,keepdim=True)\n",
        "  bnstdi = hpreact.std(0,keepdim=True)\n",
        "  hpreact = bngain * (hpreact - bnmeani) / bnstdi + bnbias #batch normalisation we add bngain and bnbias so after initialization\n",
        "  #  during backpropagation our function can modify its value\n",
        "  # this is inline way of calculating bnmean and bnstd over entire training set\n",
        "  with torch.no_grad():\n",
        "    bnmean_running = 0.999 * bnmean_running + 0.001 * bnmeani\n",
        "    bnstd_running = 0.999 * bnstd_running + 0.001 * bnstdi\n",
        "  # -------------------------------------------------------------------------------------------------------------------------------------------\n",
        "  # Non-Linearity\n",
        "  h = torch.tanh(hpreact) #hidden layer\n",
        "  logits = h @ w2 + b2 #output layer\n",
        "  loss = F.cross_entropy(logits,Yb) #loss function\n",
        "\n",
        "  # backward pass\n",
        "  for p in parameters:\n",
        "    p.grad = None\n",
        "  loss.backward()\n",
        "\n",
        "  # update\n",
        "  lr = 0.1 if i < 100000 else (0.01 if i < 150000 else 0.0001) #step learning rate decay\n",
        "  for p in parameters:\n",
        "    p.data += -lr*p.grad\n",
        "\n",
        "  # track stats\n",
        "  if i % 10000 == 0: #print every once in a while\n",
        "    print(f'{i:7d}/{max_steps:7d}: {loss.item():.4f}')\n",
        "  lossi.append(loss.log10().item())\n",
        "\n",
        "  # break"
      ],
      "metadata": {
        "id": "EcbiCfkvg06I",
        "colab": {
          "base_uri": "https://localhost:8080/"
        },
        "outputId": "d01918e7-a6ae-4e4e-f009-df289d10b090"
      },
      "execution_count": 150,
      "outputs": [
        {
          "output_type": "stream",
          "name": "stdout",
          "text": [
            "      0/ 200000: 3.3239\n",
            "  10000/ 200000: 2.0322\n",
            "  20000/ 200000: 2.5675\n",
            "  30000/ 200000: 2.0125\n",
            "  40000/ 200000: 2.2446\n",
            "  50000/ 200000: 1.8897\n",
            "  60000/ 200000: 2.0785\n",
            "  70000/ 200000: 2.3681\n",
            "  80000/ 200000: 2.2918\n",
            "  90000/ 200000: 2.0238\n",
            " 100000/ 200000: 2.3673\n",
            " 110000/ 200000: 2.3132\n",
            " 120000/ 200000: 1.6414\n",
            " 130000/ 200000: 1.9311\n",
            " 140000/ 200000: 2.2231\n",
            " 150000/ 200000: 2.0027\n",
            " 160000/ 200000: 2.1169\n",
            " 170000/ 200000: 2.4659\n",
            " 180000/ 200000: 2.0138\n",
            " 190000/ 200000: 2.1990\n"
          ]
        }
      ]
    },
    {
      "cell_type": "code",
      "source": [
        "plt.plot(lossi)"
      ],
      "metadata": {
        "colab": {
          "base_uri": "https://localhost:8080/",
          "height": 447
        },
        "id": "lIZv1e3TI1fG",
        "outputId": "9388cd83-9177-4905-c1c6-4e74314d9c21"
      },
      "execution_count": 151,
      "outputs": [
        {
          "output_type": "execute_result",
          "data": {
            "text/plain": [
              "[<matplotlib.lines.Line2D at 0x7c9aff67b5f0>]"
            ]
          },
          "metadata": {},
          "execution_count": 151
        },
        {
          "output_type": "display_data",
          "data": {
            "text/plain": [
              "<Figure size 640x480 with 1 Axes>"
            ],
            "image/png": "[encoded data removed]"
          },
          "metadata": {}
        }
      ]
    },
    {
      "cell_type": "code",
      "source": [
        "# caliberate the batch norm at end of the training\n",
        "with torch.no_grad():\n",
        "  # pass the training set through\n",
        "  emb = C[Xtr]\n",
        "  embcat = emb.view(emb.shape[0],-1)\n",
        "  hpreact = embcat @ w1 + b1\n",
        "  # measure the mean/std over the entire training set\n",
        "  bnmean = hpreact.mean(0,keepdim=True)\n",
        "  bnstd = hpreact.std(0,keepdim=True)"
      ],
      "metadata": {
        "id": "BTLZx03CitHA"
      },
      "execution_count": 152,
      "outputs": []
    },
    {
      "cell_type": "code",
      "source": [
        "@torch.no_grad() #this decorator disable gradient tracking\n",
        "def split_loss(split):\n",
        "  x,y = {\n",
        "    'train':(Xtr,Ytr),\n",
        "    'val':(Xdev,Ydev),\n",
        "    'test':(Xte,Yte)\n",
        "  }[split]\n",
        "  emb = C[x] #emb the characters into vectors\n",
        "  embcat = emb.view(emb.shape[0],-1) #concatenate the vectors\n",
        "  hpreact = embcat @ w1 + b1 #hidden layer preactivation\n",
        "  # hpreact = bngain * (hpreact - hpreact.mean(0,keepdim=True)) / hpreact.std(0,keepdim=True) + bnbias\n",
        "  # hpreact = bngain * (hpreact - bnmean) / bnstd + bnbias #batch normalisation we add bngain and bnbias so after initialization\n",
        "  hpreact = bngain * (hpreact - bnmean_running) / bnstd_running + bnbias # it is for inline calculation of bnmean and bnstd\n",
        "  h = torch.tanh(hpreact) #hidden layer\n",
        "  logits = h @ w2 + b2 #output layer\n",
        "  loss = F.cross_entropy(logits,y)\n",
        "  print(split, loss.item())\n",
        "\n",
        "split_loss('train')\n",
        "split_loss('val')"
      ],
      "metadata": {
        "colab": {
          "base_uri": "https://localhost:8080/"
        },
        "id": "olgArsBumE34",
        "outputId": "6229bf85-945a-4060-85b8-42c9af6759a2"
      },
      "execution_count": 153,
      "outputs": [
        {
          "output_type": "stream",
          "name": "stdout",
          "text": [
            "train 2.0666167736053467\n",
            "val 2.1039366722106934\n"
          ]
        }
      ]
    },
    {
      "cell_type": "code",
      "source": [
        "# loss log\n",
        "\n",
        "# original\n",
        "# train 2.113111972808838\n",
        "# val 2.1553359031677246\n",
        "\n",
        "# first softmax confidently wrong\n",
        "# train 2.0641093254089355\n",
        "# val 2.12713360786438\n",
        "\n",
        "# fix tanh layer too saturated at init\n",
        "# train 2.031878709793091\n",
        "# val 2.0978989601135254\n",
        "\n",
        "# use semi-principled \"kaiming init\" instead of hacky init:\n",
        "# train 2.0348522663116455\n",
        "# val 2.0989720821380615\n",
        "\n",
        "# after applying batch normalization\n",
        "# train 2.074030876159668\n",
        "# val 2.1136670112609863\n",
        "\n",
        "# in this updation we are not seeing any signifantly change because out nn is of 1 layer but for large nn it works quit well"
      ],
      "metadata": {
        "id": "ennir7QeMg9F"
      },
      "execution_count": 154,
      "outputs": []
    },
    {
      "cell_type": "code",
      "source": [
        "# for testing\n",
        "split_loss('test')"
      ],
      "metadata": {
        "colab": {
          "base_uri": "https://localhost:8080/"
        },
        "id": "ZM_BoAisAXG9",
        "outputId": "f2c29e52-925c-4a4e-c0e3-908462441cb3"
      },
      "execution_count": 155,
      "outputs": [
        {
          "output_type": "stream",
          "name": "stdout",
          "text": [
            "test 2.1039631366729736\n"
          ]
        }
      ]
    },
    {
      "cell_type": "code",
      "source": [
        "# to visualise when we have 2D embeddings,   it is only good for 2d embedding\n",
        "plt.figure(figsize=(8,8))\n",
        "plt.scatter(C[:,0].data,C[:,1].data,s=200)\n",
        "for i in range(C.shape[0]):\n",
        "  plt.text(C[i,0].item(),C[i,1].item(),itos[i], va='center', ha='center', color='white')\n",
        "plt.grid('minor')"
      ],
      "metadata": {
        "colab": {
          "base_uri": "https://localhost:8080/",
          "height": 676
        },
        "id": "yWwt-kU4ET03",
        "outputId": "c4089bbf-e3eb-4809-efb3-d6383a5496c3"
      },
      "execution_count": 156,
      "outputs": [
        {
          "output_type": "display_data",
          "data": {
            "text/plain": [
              "<Figure size 800x800 with 1 Axes>"
            ],
            "image/png": "[encoded data removed]"
          },
          "metadata": {}
        }
      ]
    },
    {
      "cell_type": "code",
      "source": [
        "# sample from the model\n",
        "g = torch.Generator().manual_seed(2147483647 + 10)\n",
        "for _ in range(20):\n",
        "  out = []\n",
        "  context = [0]*block_size #initialize with all ...\n",
        "  while True:\n",
        "    emb = C[torch.tensor([context])]   #(1,block_size,d)\n",
        "    h = torch.tanh(emb.view(1,-1) @ w1 + b1)\n",
        "    logits = h @ w2 +b2\n",
        "    probs =  F.softmax(logits,dim=1)\n",
        "    ix = torch.multinomial(probs,num_samples=1,replacement=True,generator=g).item()\n",
        "    context = context[1:] + [ix]\n",
        "    out.append(ix)\n",
        "    if ix==0:\n",
        "      break\n",
        "  print(''.join(itos[i] for i in out))"
      ],
      "metadata": {
        "colab": {
          "base_uri": "https://localhost:8080/"
        },
        "id": "TxwE3WHpMeRL",
        "outputId": "437569e0-2d57-4d22-ff4c-852f15e5fb69"
      },
      "execution_count": 157,
      "outputs": [
        {
          "output_type": "stream",
          "name": "stdout",
          "text": [
            "cathlif.\n",
            "trullvifk.\n",
            "mrithlithl.\n",
            "kaassierszhntvadghtvicthretif.\n",
            "qumaritzieiirdgs.\n",
            "hgy.\n",
            "shbm.\n",
            "foctseyghnishlistan.\n",
            "vabiussttwogdiarisix.\n",
            "khegzifudhmeddya.\n",
            "gabgtts.\n",
            "jaswiyah.\n",
            "qingtds.\n",
            "ksyadimbbo.\n",
            "bosbyc.\n",
            "jesiahamdrynekp.\n",
            "sadlviongorgsttlianariahramsklmarraysefennyoqhyld.\n",
            "bldn.\n",
            "ffynn.\n",
            "vaddvi.\n"
          ]
        }
      ]
    }
  ]
}